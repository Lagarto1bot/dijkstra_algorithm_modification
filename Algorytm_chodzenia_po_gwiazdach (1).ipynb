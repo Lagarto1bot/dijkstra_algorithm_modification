{
  "nbformat": 4,
  "nbformat_minor": 0,
  "metadata": {
    "colab": {
      "provenance": []
    },
    "kernelspec": {
      "name": "python3",
      "display_name": "Python 3"
    },
    "language_info": {
      "name": "python"
    }
  },
  "cells": [
    {
      "cell_type": "code",
      "execution_count": null,
      "metadata": {
        "colab": {
          "base_uri": "https://localhost:8080/"
        },
        "id": "vD3hQ5fXz9gP",
        "outputId": "a29a0b2c-2625-46c0-c81c-fd802b64b655"
      },
      "outputs": [
        {
          "output_type": "stream",
          "name": "stdout",
          "text": [
            "Najkrótsze ścieżki z systemu Sun: {'Sun': 0, 'Proxima': 4.25, 'Lalande': 8.31, 'Ross': 10.626546762589928, 'Luyten': 9.861657940663177, 'Eridani': 6.843333333333334, 'Lacaille': 6.306666666666667, 'PM': 4.0}\n"
          ]
        }
      ],
      "source": [
        "#Algorytm Dijkstry\n",
        "import numpy as np\n",
        "\n",
        "import heapq\n",
        "\n",
        "\n",
        "def dijkstra_with_dynamic_speed(graph, start, vertex_speeds):\n",
        "    distances = {vertex: float('infinity') for vertex in graph}\n",
        "    distances[start] = 0\n",
        "\n",
        "    priority_queue = [(0, start, vertex_speeds[start])]  # Dodano trzeci element do krotki: aktualna prędkość\n",
        "\n",
        "    while priority_queue:\n",
        "        current_distance, current_vertex, current_speed = heapq.heappop(priority_queue)\n",
        "\n",
        "        for neighbor, edge_weight in graph[current_vertex].items():\n",
        "\n",
        "            # Obliczanie wagi za pomocą odległości i prędkości (czas)\n",
        "            total_weight = current_distance + edge_weight / (current_speed)\n",
        "\n",
        "            if total_weight < distances[neighbor]:\n",
        "                distances[neighbor] = total_weight\n",
        "                # Przyspieszenie po przelocie przez system\n",
        "                heapq.heappush(priority_queue, (total_weight, neighbor, current_speed + vertex_speeds[neighbor]))\n",
        "\n",
        "        # Resetowanie prędkości do systemu startowego po znalezieniu najkrótszej drogi (czasu) do systemu\n",
        "        vertex_speeds[current_vertex] = vertex_speeds[start]\n",
        "    return distances\n",
        "\n",
        "\n",
        "graph = {\n",
        "    'Sun': {'Proxima': 4.25, 'Ross': 11.01, 'Lalande': 8.31, 'Luyten': 12.35, 'Eridani': 10.5, 'Lacaille': 10.74, 'PM': 4},\n",
        "    'Proxima': {'Sun': 4.25, 'Lalande': 6.58, 'Ross': 8.3, 'Lacaille': 13.8},\n",
        "    'Lalande': {'Sun': 8.31, 'Luyten': 9.94, 'Ross': 3.22, 'Proxima': 6.58},\n",
        "    'Ross': {'Sun': 11.01, 'Lalande': 3.22, 'Proxima': 8.3},\n",
        "    'Luyten': {'Sun': 12.35, 'Eridani': 11.53, 'Lalande': 9.94},\n",
        "    'Eridani': {'Sun': 10.5, 'Lacaille': 11.62, 'Luyten': 11.53, 'PM': 8.53},\n",
        "    'Lacaille': {'Sun': 10.74, 'Proxima': 13.8, 'Eridani': 11.62, 'PM': 6.92},\n",
        "    'PM': {'Sun': 4, 'Lacaille': 6.92, 'Eridani': 8.53}\n",
        "}\n",
        "# Prędkości które uzyskuje statek po przejściu przez dany system\n",
        "vertex_speeds = {'Sun': 1, 'Proxima': 0.12, 'Lalande': 0.39, 'Ross': 0.17, 'Luyten': 0.29, 'Eridani': 0.82, 'Lacaille': 0.48, 'PM': 2}\n",
        "# System startowy\n",
        "start_vertex = 'Sun'\n",
        "result = dijkstra_with_dynamic_speed(graph, start_vertex, vertex_speeds)\n",
        "\n",
        "print(f\"Najkrótsze ścieżki z systemu {start_vertex}: {result}\")"
      ]
    }
  ]
}
